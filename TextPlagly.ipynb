{
  "nbformat": 4,
  "nbformat_minor": 0,
  "metadata": {
    "colab": {
      "provenance": [],
      "authorship_tag": "ABX9TyNAiYEFZeA/C2VdNUJDsqv5",
      "include_colab_link": true
    },
    "kernelspec": {
      "name": "python3",
      "display_name": "Python 3"
    },
    "language_info": {
      "name": "python"
    }
  },
  "cells": [
    {
      "cell_type": "markdown",
      "metadata": {
        "id": "view-in-github",
        "colab_type": "text"
      },
      "source": [
        "<a href=\"https://colab.research.google.com/github/sathishsara1/IntelliCheck/blob/main/TextPlagly.ipynb\" target=\"_parent\"><img src=\"https://colab.research.google.com/assets/colab-badge.svg\" alt=\"Open In Colab\"/></a>"
      ]
    },
    {
      "cell_type": "markdown",
      "source": [
        "INSTALL NECESSARY LIBRARIES"
      ],
      "metadata": {
        "id": "4pdMFS0KLvsJ"
      }
    },
    {
      "cell_type": "code",
      "source": [
        "!pip install hmmlearn"
      ],
      "metadata": {
        "colab": {
          "base_uri": "https://localhost:8080/"
        },
        "id": "E28TFrKHOPwS",
        "outputId": "99cad4ed-3652-460b-a301-d761724458a5"
      },
      "execution_count": 36,
      "outputs": [
        {
          "output_type": "stream",
          "name": "stdout",
          "text": [
            "Collecting hmmlearn\n",
            "  Downloading hmmlearn-0.3.3-cp310-cp310-manylinux_2_17_x86_64.manylinux2014_x86_64.whl.metadata (3.0 kB)\n",
            "Requirement already satisfied: numpy>=1.10 in /usr/local/lib/python3.10/dist-packages (from hmmlearn) (1.26.4)\n",
            "Requirement already satisfied: scikit-learn!=0.22.0,>=0.16 in /usr/local/lib/python3.10/dist-packages (from hmmlearn) (1.6.0)\n",
            "Requirement already satisfied: scipy>=0.19 in /usr/local/lib/python3.10/dist-packages (from hmmlearn) (1.13.1)\n",
            "Requirement already satisfied: joblib>=1.2.0 in /usr/local/lib/python3.10/dist-packages (from scikit-learn!=0.22.0,>=0.16->hmmlearn) (1.4.2)\n",
            "Requirement already satisfied: threadpoolctl>=3.1.0 in /usr/local/lib/python3.10/dist-packages (from scikit-learn!=0.22.0,>=0.16->hmmlearn) (3.5.0)\n",
            "Downloading hmmlearn-0.3.3-cp310-cp310-manylinux_2_17_x86_64.manylinux2014_x86_64.whl (164 kB)\n",
            "\u001b[2K   \u001b[90m━━━━━━━━━━━━━━━━━━━━━━━━━━━━━━━━━━━━━━━━\u001b[0m \u001b[32m164.6/164.6 kB\u001b[0m \u001b[31m3.1 MB/s\u001b[0m eta \u001b[36m0:00:00\u001b[0m\n",
            "\u001b[?25hInstalling collected packages: hmmlearn\n",
            "Successfully installed hmmlearn-0.3.3\n"
          ]
        }
      ]
    },
    {
      "cell_type": "code",
      "source": [
        "!pip install PyPDF2 nltk transformers torch scikit-learn\n"
      ],
      "metadata": {
        "id": "Z1ppEwlXmtAw"
      },
      "execution_count": null,
      "outputs": []
    },
    {
      "cell_type": "markdown",
      "source": [
        "UPLOAD PDF"
      ],
      "metadata": {
        "id": "e1MfPjGrL2aL"
      }
    },
    {
      "cell_type": "code",
      "source": [
        "from google.colab import files\n",
        "\n",
        "uploaded = files.upload()\n"
      ],
      "metadata": {
        "colab": {
          "base_uri": "https://localhost:8080/",
          "height": 73
        },
        "id": "ncEM6QuUmyvm",
        "outputId": "55018dcd-3d70-4a91-bdfb-580e64146656"
      },
      "execution_count": 40,
      "outputs": [
        {
          "output_type": "display_data",
          "data": {
            "text/plain": [
              "<IPython.core.display.HTML object>"
            ],
            "text/html": [
              "\n",
              "     <input type=\"file\" id=\"files-a63425f3-642c-468f-9220-b95d8af94a04\" name=\"files[]\" multiple disabled\n",
              "        style=\"border:none\" />\n",
              "     <output id=\"result-a63425f3-642c-468f-9220-b95d8af94a04\">\n",
              "      Upload widget is only available when the cell has been executed in the\n",
              "      current browser session. Please rerun this cell to enable.\n",
              "      </output>\n",
              "      <script>// Copyright 2017 Google LLC\n",
              "//\n",
              "// Licensed under the Apache License, Version 2.0 (the \"License\");\n",
              "// you may not use this file except in compliance with the License.\n",
              "// You may obtain a copy of the License at\n",
              "//\n",
              "//      http://www.apache.org/licenses/LICENSE-2.0\n",
              "//\n",
              "// Unless required by applicable law or agreed to in writing, software\n",
              "// distributed under the License is distributed on an \"AS IS\" BASIS,\n",
              "// WITHOUT WARRANTIES OR CONDITIONS OF ANY KIND, either express or implied.\n",
              "// See the License for the specific language governing permissions and\n",
              "// limitations under the License.\n",
              "\n",
              "/**\n",
              " * @fileoverview Helpers for google.colab Python module.\n",
              " */\n",
              "(function(scope) {\n",
              "function span(text, styleAttributes = {}) {\n",
              "  const element = document.createElement('span');\n",
              "  element.textContent = text;\n",
              "  for (const key of Object.keys(styleAttributes)) {\n",
              "    element.style[key] = styleAttributes[key];\n",
              "  }\n",
              "  return element;\n",
              "}\n",
              "\n",
              "// Max number of bytes which will be uploaded at a time.\n",
              "const MAX_PAYLOAD_SIZE = 100 * 1024;\n",
              "\n",
              "function _uploadFiles(inputId, outputId) {\n",
              "  const steps = uploadFilesStep(inputId, outputId);\n",
              "  const outputElement = document.getElementById(outputId);\n",
              "  // Cache steps on the outputElement to make it available for the next call\n",
              "  // to uploadFilesContinue from Python.\n",
              "  outputElement.steps = steps;\n",
              "\n",
              "  return _uploadFilesContinue(outputId);\n",
              "}\n",
              "\n",
              "// This is roughly an async generator (not supported in the browser yet),\n",
              "// where there are multiple asynchronous steps and the Python side is going\n",
              "// to poll for completion of each step.\n",
              "// This uses a Promise to block the python side on completion of each step,\n",
              "// then passes the result of the previous step as the input to the next step.\n",
              "function _uploadFilesContinue(outputId) {\n",
              "  const outputElement = document.getElementById(outputId);\n",
              "  const steps = outputElement.steps;\n",
              "\n",
              "  const next = steps.next(outputElement.lastPromiseValue);\n",
              "  return Promise.resolve(next.value.promise).then((value) => {\n",
              "    // Cache the last promise value to make it available to the next\n",
              "    // step of the generator.\n",
              "    outputElement.lastPromiseValue = value;\n",
              "    return next.value.response;\n",
              "  });\n",
              "}\n",
              "\n",
              "/**\n",
              " * Generator function which is called between each async step of the upload\n",
              " * process.\n",
              " * @param {string} inputId Element ID of the input file picker element.\n",
              " * @param {string} outputId Element ID of the output display.\n",
              " * @return {!Iterable<!Object>} Iterable of next steps.\n",
              " */\n",
              "function* uploadFilesStep(inputId, outputId) {\n",
              "  const inputElement = document.getElementById(inputId);\n",
              "  inputElement.disabled = false;\n",
              "\n",
              "  const outputElement = document.getElementById(outputId);\n",
              "  outputElement.innerHTML = '';\n",
              "\n",
              "  const pickedPromise = new Promise((resolve) => {\n",
              "    inputElement.addEventListener('change', (e) => {\n",
              "      resolve(e.target.files);\n",
              "    });\n",
              "  });\n",
              "\n",
              "  const cancel = document.createElement('button');\n",
              "  inputElement.parentElement.appendChild(cancel);\n",
              "  cancel.textContent = 'Cancel upload';\n",
              "  const cancelPromise = new Promise((resolve) => {\n",
              "    cancel.onclick = () => {\n",
              "      resolve(null);\n",
              "    };\n",
              "  });\n",
              "\n",
              "  // Wait for the user to pick the files.\n",
              "  const files = yield {\n",
              "    promise: Promise.race([pickedPromise, cancelPromise]),\n",
              "    response: {\n",
              "      action: 'starting',\n",
              "    }\n",
              "  };\n",
              "\n",
              "  cancel.remove();\n",
              "\n",
              "  // Disable the input element since further picks are not allowed.\n",
              "  inputElement.disabled = true;\n",
              "\n",
              "  if (!files) {\n",
              "    return {\n",
              "      response: {\n",
              "        action: 'complete',\n",
              "      }\n",
              "    };\n",
              "  }\n",
              "\n",
              "  for (const file of files) {\n",
              "    const li = document.createElement('li');\n",
              "    li.append(span(file.name, {fontWeight: 'bold'}));\n",
              "    li.append(span(\n",
              "        `(${file.type || 'n/a'}) - ${file.size} bytes, ` +\n",
              "        `last modified: ${\n",
              "            file.lastModifiedDate ? file.lastModifiedDate.toLocaleDateString() :\n",
              "                                    'n/a'} - `));\n",
              "    const percent = span('0% done');\n",
              "    li.appendChild(percent);\n",
              "\n",
              "    outputElement.appendChild(li);\n",
              "\n",
              "    const fileDataPromise = new Promise((resolve) => {\n",
              "      const reader = new FileReader();\n",
              "      reader.onload = (e) => {\n",
              "        resolve(e.target.result);\n",
              "      };\n",
              "      reader.readAsArrayBuffer(file);\n",
              "    });\n",
              "    // Wait for the data to be ready.\n",
              "    let fileData = yield {\n",
              "      promise: fileDataPromise,\n",
              "      response: {\n",
              "        action: 'continue',\n",
              "      }\n",
              "    };\n",
              "\n",
              "    // Use a chunked sending to avoid message size limits. See b/62115660.\n",
              "    let position = 0;\n",
              "    do {\n",
              "      const length = Math.min(fileData.byteLength - position, MAX_PAYLOAD_SIZE);\n",
              "      const chunk = new Uint8Array(fileData, position, length);\n",
              "      position += length;\n",
              "\n",
              "      const base64 = btoa(String.fromCharCode.apply(null, chunk));\n",
              "      yield {\n",
              "        response: {\n",
              "          action: 'append',\n",
              "          file: file.name,\n",
              "          data: base64,\n",
              "        },\n",
              "      };\n",
              "\n",
              "      let percentDone = fileData.byteLength === 0 ?\n",
              "          100 :\n",
              "          Math.round((position / fileData.byteLength) * 100);\n",
              "      percent.textContent = `${percentDone}% done`;\n",
              "\n",
              "    } while (position < fileData.byteLength);\n",
              "  }\n",
              "\n",
              "  // All done.\n",
              "  yield {\n",
              "    response: {\n",
              "      action: 'complete',\n",
              "    }\n",
              "  };\n",
              "}\n",
              "\n",
              "scope.google = scope.google || {};\n",
              "scope.google.colab = scope.google.colab || {};\n",
              "scope.google.colab._files = {\n",
              "  _uploadFiles,\n",
              "  _uploadFilesContinue,\n",
              "};\n",
              "})(self);\n",
              "</script> "
            ]
          },
          "metadata": {}
        },
        {
          "output_type": "stream",
          "name": "stdout",
          "text": [
            "Saving hihello.pdf to hihello.pdf\n"
          ]
        }
      ]
    },
    {
      "cell_type": "markdown",
      "source": [
        "EXTRACT TEXT FROM PDF"
      ],
      "metadata": {
        "id": "9NKzceUhL6FV"
      }
    },
    {
      "cell_type": "code",
      "source": [
        "import PyPDF2\n",
        "\n",
        "file_name = list(uploaded.keys())[0]\n",
        "pdf_reader = PyPDF2.PdfReader(file_name)\n",
        "\n",
        "extracted_text = \"\"\n",
        "for page in pdf_reader.pages:\n",
        "    extracted_text += page.extract_text()\n",
        "\n",
        "print(extracted_text[:500])\n"
      ],
      "metadata": {
        "colab": {
          "base_uri": "https://localhost:8080/"
        },
        "id": "kMsnlgXcm-hr",
        "outputId": "068b2c61-29f2-409c-bf3d-d23f70059ad1"
      },
      "execution_count": 41,
      "outputs": [
        {
          "output_type": "stream",
          "name": "stdout",
          "text": [
            "INTELLICHECK – A PLAGIARISM DETECTOR FOR SOURCE CODE AND TEXT \n",
            "USING NATURAL LANGUAGE PROCESSING, HIDDEN MARKOV MODEL AND \n",
            "TRANSFORMER MODELS \n",
            "ABSTRACT : \n",
            "In today’s digital age, ensuring the originality of academic work, code, and content is of \n",
            "paramount importance, necessitating the development of robust plagiarism detection \n",
            "systems. This paper explores the use of advanced machine learning techniques such as \n",
            "Natural Language Processing (NLP), Hidden Markov Models (HMM), and Transformer-\n",
            "bas\n"
          ]
        }
      ]
    },
    {
      "cell_type": "markdown",
      "source": [
        "PREPROCESS THE TEXT"
      ],
      "metadata": {
        "id": "-Gz8MQafMjlH"
      }
    },
    {
      "cell_type": "code",
      "source": [
        "import re\n",
        "\n",
        "def preprocess_text(text):\n",
        "    text = re.sub(r'[^a-zA-Z\\s]', '', text) #Extra Characters\n",
        "    text = re.sub(r'\\s+', ' ', text) #Extra Spaces\n",
        "    text = text.lower() #converting into lower case\n",
        "    text = text.strip() #removing leading and trailing spaces\n",
        "    return text\n"
      ],
      "metadata": {
        "id": "6qdJYd9wnVeU"
      },
      "execution_count": 42,
      "outputs": []
    },
    {
      "cell_type": "code",
      "source": [
        "processed_text = preprocess_text(extracted_text)\n",
        "print(processed_text[:500])\n"
      ],
      "metadata": {
        "id": "YOd8VqSNnZWW",
        "outputId": "f68a6219-5784-45ee-e50d-c41eac823b39",
        "colab": {
          "base_uri": "https://localhost:8080/"
        }
      },
      "execution_count": 43,
      "outputs": [
        {
          "output_type": "stream",
          "name": "stdout",
          "text": [
            "intellicheck a plagiarism detector for source code and text using natural language processing hidden markov model and transformer models abstract in todays digital age ensuring the originality of academic work code and content is of paramount importance necessitating the development of robust plagiarism detection systems this paper explores the use of advanced machine learning techniques such as natural language processing nlp hidden markov models hmm and transformer based models like bert to de\n"
          ]
        }
      ]
    },
    {
      "cell_type": "markdown",
      "source": [
        "LOADING THE CORPUS"
      ],
      "metadata": {
        "id": "9t9cnzKkNK7S"
      }
    },
    {
      "cell_type": "code",
      "source": [
        "import os\n",
        "\n",
        "extracted_path = \"/content/Corpus\"\n",
        "\n",
        "file_names = []\n",
        "for root, dirs, files in os.walk(extracted_path):\n",
        "    for file in files:\n",
        "        file_names.append(os.path.join(root, file))\n",
        "\n",
        "print(\"Files in the folder:\")\n",
        "for name in file_names:\n",
        "    print(name)\n"
      ],
      "metadata": {
        "id": "6K1KuMRIuw02"
      },
      "execution_count": null,
      "outputs": []
    },
    {
      "cell_type": "code",
      "source": [
        "import os\n",
        "\n",
        "source_dir = \"/content/Corpus\"\n",
        "source_files = []\n",
        "for root, dirs, files in os.walk(source_dir):\n",
        "    for file in files:\n",
        "        if file.endswith(\".txt\"):\n",
        "            source_files.append(os.path.join(root, file))\n",
        "print(f\"Total source documents found: {len(source_files)}\")\n"
      ],
      "metadata": {
        "id": "4IyzqPMhGOhA"
      },
      "execution_count": null,
      "outputs": []
    },
    {
      "cell_type": "code",
      "source": [
        "source_texts = []\n",
        "idx = 0\n",
        "for file in source_files[:100]:\n",
        "    with open(file, 'r', encoding='utf-8') as f:\n",
        "        source_text = f.read()\n",
        "        source_texts.append(preprocess_text(source_text))\n",
        "\n",
        "print(f\"Processed first 100 source documents.\")\n"
      ],
      "metadata": {
        "colab": {
          "base_uri": "https://localhost:8080/"
        },
        "id": "EzYDv2QTHT3n",
        "outputId": "9fad42cc-cc5c-409f-eda3-abcee4c046bb"
      },
      "execution_count": 22,
      "outputs": [
        {
          "output_type": "stream",
          "name": "stdout",
          "text": [
            "Processed first 100 source documents.\n"
          ]
        }
      ]
    },
    {
      "cell_type": "markdown",
      "source": [
        "HMM MODEL DEVELOPMENT (HIDDEN MARKOV MODEL)"
      ],
      "metadata": {
        "id": "ke1Zov73NdTO"
      }
    },
    {
      "cell_type": "code",
      "source": [
        "from sklearn.feature_extraction.text import CountVectorizer\n",
        "\n",
        "vectorizer = CountVectorizer(ngram_range=(3, 3))\n",
        "source_matrix = vectorizer.fit_transform(source_texts)\n",
        "\n",
        "query_matrix = vectorizer.transform([processed_text])\n",
        "\n",
        "from sklearn.metrics.pairwise import cosine_similarity\n",
        "similarity_scores = cosine_similarity(query_matrix, source_matrix)\n",
        "\n",
        "print(f\"Top 5 structural similarities:\")\n",
        "top_matches = similarity_scores[0].argsort()[-5:][::-1]\n",
        "for idx in top_matches:\n",
        "    print(f\"Match with {source_files[idx]} - Similarity: {similarity_scores[0][idx] * 100:.2f}%\")\n"
      ],
      "metadata": {
        "colab": {
          "base_uri": "https://localhost:8080/"
        },
        "id": "DJDkgc52H6bY",
        "outputId": "8729965e-eabb-4256-a918-4e1fb189cf80"
      },
      "execution_count": 44,
      "outputs": [
        {
          "output_type": "stream",
          "name": "stdout",
          "text": [
            "Top 5 structural similarities:\n",
            "Match with /content/Corpus/Corpus/source-document01327.txt - Similarity: 5.59%\n",
            "Match with /content/Corpus/Corpus/source-document01653.txt - Similarity: 5.24%\n",
            "Match with /content/Corpus/Corpus/source-document00540.txt - Similarity: 4.78%\n",
            "Match with /content/Corpus/Corpus/source-document01382.txt - Similarity: 4.77%\n",
            "Match with /content/Corpus/Corpus/source-document01698.txt - Similarity: 4.41%\n"
          ]
        }
      ]
    },
    {
      "cell_type": "markdown",
      "source": [
        "BERT MODEL"
      ],
      "metadata": {
        "id": "qRcfnv4HQKAT"
      }
    },
    {
      "cell_type": "code",
      "source": [
        "from sentence_transformers import SentenceTransformer\n",
        "\n",
        "model = SentenceTransformer('paraphrase-MiniLM-L6-v2')\n",
        "\n",
        "query_embedding = model.encode([processed_text])\n",
        "source_embeddings = model.encode(source_texts[:10])\n",
        "\n",
        "import numpy as np\n",
        "semantic_similarities = np.inner(query_embedding, source_embeddings)\n",
        "\n",
        "print(f\"Top 5 semantic similarities:\")\n",
        "top_semantic_matches = np.argsort(semantic_similarities[0])[-5:][::-1]\n",
        "for idx in top_semantic_matches:\n",
        "    print(f\"Match with {source_files[idx]} - Similarity: {semantic_similarities[0][idx] :.2f}%\")\n"
      ],
      "metadata": {
        "colab": {
          "base_uri": "https://localhost:8080/"
        },
        "id": "dRbhO4XKIH3r",
        "outputId": "19f3584e-fbcd-4fc5-fb25-481ee191ed98"
      },
      "execution_count": 45,
      "outputs": [
        {
          "output_type": "stream",
          "name": "stdout",
          "text": [
            "Top 5 semantic similarities:\n",
            "Match with /content/Corpus/Corpus/source-document01244.txt - Similarity: 3.84%\n",
            "Match with /content/Corpus/Corpus/source-document00808.txt - Similarity: 3.79%\n",
            "Match with /content/Corpus/Corpus/source-document01327.txt - Similarity: 3.28%\n",
            "Match with /content/Corpus/Corpus/source-document01113.txt - Similarity: 2.92%\n",
            "Match with /content/Corpus/Corpus/source-document00861.txt - Similarity: 2.38%\n"
          ]
        }
      ]
    },
    {
      "cell_type": "code",
      "source": [
        "print(\"Size of semantic_similarities:\", len(semantic_similarities[0]))\n",
        "print(\"Indices in top_matches:\", top_matches)\n"
      ],
      "metadata": {
        "colab": {
          "base_uri": "https://localhost:8080/"
        },
        "id": "3ReBQBiTJW8-",
        "outputId": "79dd44a2-3dce-4d70-b9a9-2fd7dc0333e7"
      },
      "execution_count": 27,
      "outputs": [
        {
          "output_type": "stream",
          "name": "stdout",
          "text": [
            "Size of semantic_similarities: 10\n",
            "Indices in top_matches: [ 7 92 74 63 70]\n"
          ]
        }
      ]
    },
    {
      "cell_type": "markdown",
      "source": [
        "OVERALL PLAGIARISM SCORE"
      ],
      "metadata": {
        "id": "eQgnGcj5QMzt"
      }
    },
    {
      "cell_type": "code",
      "source": [
        "from sklearn.feature_extraction.text import CountVectorizer\n",
        "from sklearn.metrics.pairwise import cosine_similarity\n",
        "\n",
        "vectorizer = CountVectorizer(ngram_range=(3, 3))\n",
        "source_matrix = vectorizer.fit_transform(source_texts)\n",
        "\n",
        "query_matrix = vectorizer.transform([processed_text])\n",
        "\n",
        "similarity_scores = cosine_similarity(query_matrix, source_matrix)\n",
        "\n",
        "N = 20\n",
        "top_indices = similarity_scores[0].argsort()[-N:][::-1]\n",
        "top_scores = similarity_scores[0][top_indices]\n",
        "\n",
        "structural_plagiarism_score = (top_scores.sum())\n",
        "print(f\"Plagiarism Score (Structural Similarity): {structural_plagiarism_score:.2f}%\")\n"
      ],
      "metadata": {
        "colab": {
          "base_uri": "https://localhost:8080/"
        },
        "id": "BaSmw0mJKXj4",
        "outputId": "25c389bf-16c3-4c47-c26e-73e231585f67"
      },
      "execution_count": 58,
      "outputs": [
        {
          "output_type": "stream",
          "name": "stdout",
          "text": [
            "Plagiarism Score (Structural Similarity): 0.60%\n"
          ]
        }
      ]
    },
    {
      "cell_type": "code",
      "source": [
        "from sentence_transformers import SentenceTransformer\n",
        "import numpy as np\n",
        "model = SentenceTransformer('paraphrase-MiniLM-L6-v2')\n",
        "\n",
        "query_embedding = model.encode([processed_text])\n",
        "source_embeddings = model.encode(source_texts)\n",
        "semantic_similarities = np.inner(query_embedding, source_embeddings)\n",
        "\n",
        "N = 20\n",
        "top_indices = np.argsort(semantic_similarities[0])[-N:][::-1]\n",
        "top_scores = semantic_similarities[0][top_indices]\n",
        "print(top_scores)\n",
        "semantic_plagiarism_score = (top_scores.sum())\n",
        "print(f\"Plagiarism Score (Semantic Similarity): {semantic_plagiarism_score:.2f}%\")\n"
      ],
      "metadata": {
        "colab": {
          "base_uri": "https://localhost:8080/"
        },
        "id": "B5TsT56kKyF2",
        "outputId": "0dd78702-524d-402f-8844-e4b9685a9a67"
      },
      "execution_count": 59,
      "outputs": [
        {
          "output_type": "stream",
          "name": "stdout",
          "text": [
            "[5.7607327 5.4016914 5.111039  4.8841214 4.659977  4.290891  4.2390966\n",
            " 4.1816425 4.161416  3.9998739 3.8390465 3.7971458 3.790763  3.6983268\n",
            " 3.647286  3.6363814 3.602428  3.5520313 3.4950533 3.4918807]\n",
            "Plagiarism Score (Semantic Similarity): 83.24%\n"
          ]
        }
      ]
    },
    {
      "cell_type": "code",
      "source": [
        "weight_hmm = 0.2\n",
        "weight_bert = 0.8\n",
        "\n",
        "\n",
        "overall_plagiarism = ((weight_hmm * structural_plagiarism_score) + (weight_bert * semantic_plagiarism_score))\n",
        "\n",
        "print(\"\\nOverall Scores:\")\n",
        "print(f\"Overall Plagiarism: {overall_plagiarism:.2f}%\")\n"
      ],
      "metadata": {
        "colab": {
          "base_uri": "https://localhost:8080/"
        },
        "id": "wIiHNLA1LdQ7",
        "outputId": "ff15761b-6ce3-4927-96c9-286fbdde35b4"
      },
      "execution_count": 61,
      "outputs": [
        {
          "output_type": "stream",
          "name": "stdout",
          "text": [
            "\n",
            "Overall Scores:\n",
            "Overall Plagiarism: 66.71%\n"
          ]
        }
      ]
    },
    {
      "cell_type": "code",
      "source": [],
      "metadata": {
        "id": "3KSXsOEaQo83"
      },
      "execution_count": null,
      "outputs": []
    }
  ]
}